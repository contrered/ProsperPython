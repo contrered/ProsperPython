{
 "cells": [
  {
   "cell_type": "code",
   "execution_count": 2,
   "id": "ff7e143c",
   "metadata": {},
   "outputs": [],
   "source": [
    "aliststr =',Symbol,'',Description,'"
   ]
  },
  {
   "cell_type": "code",
   "execution_count": 3,
   "id": "96365009",
   "metadata": {},
   "outputs": [
    {
     "data": {
      "text/plain": [
       "',Symbol,,Description,'"
      ]
     },
     "execution_count": 3,
     "metadata": {},
     "output_type": "execute_result"
    }
   ],
   "source": [
    "aliststr"
   ]
  },
  {
   "cell_type": "code",
   "execution_count": 4,
   "id": "a2a6c445",
   "metadata": {},
   "outputs": [
    {
     "data": {
      "text/plain": [
       "str"
      ]
     },
     "execution_count": 4,
     "metadata": {},
     "output_type": "execute_result"
    }
   ],
   "source": [
    "type(aliststr)"
   ]
  },
  {
   "cell_type": "code",
   "execution_count": 5,
   "id": "043cd32d",
   "metadata": {},
   "outputs": [
    {
     "data": {
      "text/plain": [
       "'Sy'"
      ]
     },
     "execution_count": 5,
     "metadata": {},
     "output_type": "execute_result"
    }
   ],
   "source": [
    "aliststr[1:3]"
   ]
  },
  {
   "cell_type": "code",
   "execution_count": 6,
   "id": "9ace1e41",
   "metadata": {},
   "outputs": [
    {
     "data": {
      "text/plain": [
       "[',Symbol,,Description,']"
      ]
     },
     "execution_count": 6,
     "metadata": {},
     "output_type": "execute_result"
    }
   ],
   "source": [
    "aliststr.split()"
   ]
  },
  {
   "cell_type": "code",
   "execution_count": 7,
   "id": "33dc5d7a",
   "metadata": {},
   "outputs": [
    {
     "data": {
      "text/plain": [
       "[',Symbol,,Description,']"
      ]
     },
     "execution_count": 7,
     "metadata": {},
     "output_type": "execute_result"
    }
   ],
   "source": [
    "aliststr.split(' ')"
   ]
  },
  {
   "cell_type": "code",
   "execution_count": 8,
   "id": "484c13fb",
   "metadata": {},
   "outputs": [
    {
     "data": {
      "text/plain": [
       "['', 'Symbol', '', 'Description', '']"
      ]
     },
     "execution_count": 8,
     "metadata": {},
     "output_type": "execute_result"
    }
   ],
   "source": [
    "aliststr.split(',')"
   ]
  },
  {
   "cell_type": "code",
   "execution_count": 9,
   "id": "5d7dd946",
   "metadata": {},
   "outputs": [
    {
     "data": {
      "text/plain": [
       "',Symbol,,Description,'"
      ]
     },
     "execution_count": 9,
     "metadata": {},
     "output_type": "execute_result"
    }
   ],
   "source": [
    "aliststr1 = aliststr\n",
    "aliststr1"
   ]
  },
  {
   "cell_type": "code",
   "execution_count": 10,
   "id": "21aba9f1",
   "metadata": {},
   "outputs": [
    {
     "data": {
      "text/plain": [
       "''"
      ]
     },
     "execution_count": 10,
     "metadata": {},
     "output_type": "execute_result"
    }
   ],
   "source": [
    "aliststr.split(',')[2]"
   ]
  },
  {
   "cell_type": "code",
   "execution_count": 11,
   "id": "eab3854c",
   "metadata": {},
   "outputs": [
    {
     "data": {
      "text/plain": [
       "',DOW JONES 30 INDUSTRIALS,,DOW JONES 30 INDUSTRIALS,'"
      ]
     },
     "execution_count": 11,
     "metadata": {},
     "output_type": "execute_result"
    }
   ],
   "source": [
    "##found the string split function of use now to try it on a couple at a time\n",
    "',AVUV,'',Avantis U.S. Small Cap Value ETF,'\n",
    "',DOW JONES 30 INDUSTRIALS,'',DOW JONES 30 INDUSTRIALS,'"
   ]
  },
  {
   "cell_type": "code",
   "execution_count": 12,
   "id": "5f9dd33b",
   "metadata": {},
   "outputs": [
    {
     "data": {
      "text/plain": [
       "[',AVUV,,Avantis U.S. Small Cap Value ETF,',\n",
       " ',DOW JONES 30 INDUSTRIALS,,DOW JONES 30 INDUSTRIALS,']"
      ]
     },
     "execution_count": 12,
     "metadata": {},
     "output_type": "execute_result"
    }
   ],
   "source": [
    "astr1 = ',AVUV,'',Avantis U.S. Small Cap Value ETF,'\n",
    "astr2 = ',DOW JONES 30 INDUSTRIALS,'',DOW JONES 30 INDUSTRIALS,'\n",
    "astr11 = [astr1,astr2]\n",
    "astr11"
   ]
  },
  {
   "cell_type": "code",
   "execution_count": 20,
   "id": "eea84aa1",
   "metadata": {},
   "outputs": [
    {
     "data": {
      "text/plain": [
       "['AVUV', 'DOW ']"
      ]
     },
     "execution_count": 20,
     "metadata": {},
     "output_type": "execute_result"
    }
   ],
   "source": [
    "astr11[0][1:5]\n",
    "astr111 = astr11[0][1:5]\n",
    "astr11[1][1:5]\n",
    "astr12=astr11[1][1:5]\n",
    "astr1111=[astr111,astr12]\n",
    "astr1111"
   ]
  },
  {
   "cell_type": "code",
   "execution_count": 19,
   "id": "24d2d668",
   "metadata": {},
   "outputs": [
    {
     "data": {
      "text/plain": [
       "['', 'AVUV', '', 'Avantis U.S. Small Cap Value ETF', '']"
      ]
     },
     "execution_count": 19,
     "metadata": {},
     "output_type": "execute_result"
    }
   ],
   "source": [
    "##split again\n",
    "astr1.split(',')"
   ]
  },
  {
   "cell_type": "code",
   "execution_count": null,
   "id": "b45aecee",
   "metadata": {},
   "outputs": [],
   "source": []
  }
 ],
 "metadata": {
  "kernelspec": {
   "display_name": "Python 3 (ipykernel)",
   "language": "python",
   "name": "python3"
  },
  "language_info": {
   "codemirror_mode": {
    "name": "ipython",
    "version": 3
   },
   "file_extension": ".py",
   "mimetype": "text/x-python",
   "name": "python",
   "nbconvert_exporter": "python",
   "pygments_lexer": "ipython3",
   "version": "3.9.13"
  }
 },
 "nbformat": 4,
 "nbformat_minor": 5
}
